{
 "cells": [
  {
   "cell_type": "markdown",
   "id": "94ba666d-4b9b-408a-b37f-5fb5ae48d340",
   "metadata": {},
   "source": [
    "# CS 6410 Project - Poker Predictor\n",
    "## Team: Wentao chen & Zhi Ling"
   ]
  },
  {
   "cell_type": "markdown",
   "id": "9a6b107f-b83e-42b3-bf62-3bc52a92154b",
   "metadata": {},
   "source": [
    "### Part 1"
   ]
  },
  {
   "cell_type": "code",
   "execution_count": 35,
   "id": "c1144cc8-0996-4c4b-abbe-3dd415da7e1e",
   "metadata": {},
   "outputs": [
    {
     "name": "stdout",
     "output_type": "stream",
     "text": [
      "Hand Score: 1, Hand Rank: Royal Flush\n"
     ]
    }
   ],
   "source": [
    "from treys import Card, Evaluator\n",
    "\n",
    "def evaluate_hand_strength(hole_cards, board_cards):\n",
    "    evaluator = Evaluator()\n",
    "    my_hand = [Card.new(card) for card in hole_cards]\n",
    "    board = [Card.new(card) for card in board_cards]\n",
    "\n",
    "    # Compute hand strength score (lower is better)\n",
    "    score = evaluator.evaluate(my_hand, board)\n",
    "\n",
    "    # Get hand class (e.g., \"One Pair\", \"Flush\", etc.)\n",
    "    hand_class = evaluator.get_rank_class(score)\n",
    "    hand_class_str = evaluator.class_to_string(hand_class)\n",
    "\n",
    "    return score, hand_class_str\n",
    "\n",
    "# Example usage:\n",
    "hole = ['Ah', 'Kh']          # Ace of hearts and King of diamonds\n",
    "board = ['Qh', 'Jh', 'Th', '9h', 'Kd']   # Example flop\n",
    "score, hand_rank = evaluate_hand_strength(hole, board)\n",
    "print(f\"Hand Score: {score}, Hand Rank: {hand_rank}\")\n"
   ]
  },
  {
   "cell_type": "code",
   "execution_count": null,
   "id": "cc6cabf5-b9d3-4e6b-9898-37f04c5a13b8",
   "metadata": {},
   "outputs": [],
   "source": []
  }
 ],
 "metadata": {
  "kernelspec": {
   "display_name": "Python [conda env:base] *",
   "language": "python",
   "name": "conda-base-py"
  },
  "language_info": {
   "codemirror_mode": {
    "name": "ipython",
    "version": 3
   },
   "file_extension": ".py",
   "mimetype": "text/x-python",
   "name": "python",
   "nbconvert_exporter": "python",
   "pygments_lexer": "ipython3",
   "version": "3.12.3"
  }
 },
 "nbformat": 4,
 "nbformat_minor": 5
}
