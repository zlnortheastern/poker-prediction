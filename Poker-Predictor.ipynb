{
 "cells": [
  {
   "cell_type": "markdown",
   "id": "94ba666d-4b9b-408a-b37f-5fb5ae48d340",
   "metadata": {},
   "source": [
    "# CS 6410 Project - Poker Predictor\n",
    "## Team: Wentao chen & Zhi Ling"
   ]
  },
  {
   "cell_type": "markdown",
   "id": "9a6b107f-b83e-42b3-bf62-3bc52a92154b",
   "metadata": {},
   "source": [
    "### Part 1"
   ]
  },
  {
   "cell_type": "code",
   "execution_count": null,
   "id": "4081aa43-b1ae-48e4-8fa5-272e56ee9241",
   "metadata": {},
   "outputs": [],
   "source": []
  }
 ],
 "metadata": {
  "kernelspec": {
   "display_name": "Python [conda env:base] *",
   "language": "python",
   "name": "conda-base-py"
  },
  "language_info": {
   "codemirror_mode": {
    "name": "ipython",
    "version": 3
   },
   "file_extension": ".py",
   "mimetype": "text/x-python",
   "name": "python",
   "nbconvert_exporter": "python",
   "pygments_lexer": "ipython3",
   "version": "3.12.3"
  }
 },
 "nbformat": 4,
 "nbformat_minor": 5
}
